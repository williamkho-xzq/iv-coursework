{
 "cells": [
  {
   "cell_type": "code",
   "execution_count": 1,
   "id": "2ceaa1e2",
   "metadata": {},
   "outputs": [
    {
     "data": {
      "text/plain": [
       "DataTransformerRegistry.enable('vegafusion')"
      ]
     },
     "execution_count": 1,
     "metadata": {},
     "output_type": "execute_result"
    }
   ],
   "source": [
    "import altair as alt\n",
    "import pandas as pd\n",
    "import numpy as np\n",
    "import timeit\n",
    "from IPython.display import Image, display\n",
    "\n",
    "alt.data_transformers.enable(\"vegafusion\")"
   ]
  },
  {
   "cell_type": "code",
   "execution_count": null,
   "id": "9857d6fd",
   "metadata": {},
   "outputs": [],
   "source": [
    "df = pd.read_csv(\"data/cleaned_TMDB_tv_dataset.csv\")"
   ]
  },
  {
   "cell_type": "code",
   "execution_count": null,
   "id": "98e12bf2",
   "metadata": {},
   "outputs": [],
   "source": [
    "data_path = \"/Users/ddl26/Library/Mobile Documents/com~apple~CloudDocs/Uni of Glasgow/Sem 2/IV/Assignment/Working File/iv-coursework/data/movie_dataset.csv\"\n",
    "df = pd.read_csv(data_path)\n",
    "\n",
    "# Convert 'release_date' column to datetime\n",
    "df['release_date'] = pd.to_datetime(df['release_date'])\n",
    "\n",
    "# Create a selection brush\n",
    "brush = alt.selection_interval(encodings=['x', 'y'])\n",
    "\n",
    "# Create scatter plot\n",
    "scatter = alt.Chart(df).mark_circle().encode(\n",
    "    x='year(release_date):T',\n",
    "    y='vote_average:Q',\n",
    "    color=alt.condition(brush, 'title:N', alt.value('lightgray')),\n",
    "    tooltip=['title:N', 'vote_average:Q', 'year(release_date):T']\n",
    ").properties(\n",
    "    width=600,\n",
    "    height=400\n",
    ").add_params(\n",
    "    brush\n",
    ")\n",
    "\n",
    "# Create bar chart\n",
    "bar = alt.Chart(df).mark_bar().encode(\n",
    "    x='revenue:Q',\n",
    "    y=alt.Y('genres:N', title='Genre'),\n",
    "    tooltip=['genres:N', 'revenue:Q']\n",
    ").transform_filter(\n",
    "    brush\n",
    ").properties(\n",
    "    width=600,\n",
    "    height=400\n",
    ")\n",
    "\n",
    "#\n",
    "brush = alt.selection_interval()\n",
    "chart_brush = alt.Chart.add_params(brush) \n",
    "\n",
    "# Combine charts\n",
    "scatter | bar"
   ]
  }
 ],
 "metadata": {
  "kernelspec": {
   "display_name": "Python 3 (ipykernel)",
   "language": "python",
   "name": "python3"
  },
  "language_info": {
   "codemirror_mode": {
    "name": "ipython",
    "version": 3
   },
   "file_extension": ".py",
   "mimetype": "text/x-python",
   "name": "python",
   "nbconvert_exporter": "python",
   "pygments_lexer": "ipython3",
   "version": "3.11.4"
  }
 },
 "nbformat": 4,
 "nbformat_minor": 5
}
