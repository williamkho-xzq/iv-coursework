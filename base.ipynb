{
 "cells": [
  {
   "cell_type": "code",
   "execution_count": 12,
   "id": "16b99c12-0f02-49e7-aef1-065dca73501c",
   "metadata": {},
   "outputs": [
    {
     "data": {
      "text/plain": [
       "DataTransformerRegistry.enable('vegafusion')"
      ]
     },
     "execution_count": 12,
     "metadata": {},
     "output_type": "execute_result"
    }
   ],
   "source": [
    "import altair as alt\n",
    "import pandas as pd\n",
    "import numpy as np\n",
    "import timeit\n",
    "from IPython.display import Image, display\n",
    "\n",
    "alt.data_transformers.enable(\"vegafusion\")"
   ]
  },
  {
   "cell_type": "code",
   "execution_count": 13,
   "id": "eaab8c86-2039-44b3-9498-4cc4570f5e3b",
   "metadata": {},
   "outputs": [],
   "source": [
    "movies_df = pd.read_csv(\"data/movie_dataset.csv\")"
   ]
  },
  {
   "cell_type": "code",
   "execution_count": 14,
   "id": "ebe399ad-c411-49c8-baf0-72f12e01e5cb",
   "metadata": {},
   "outputs": [
    {
     "data": {
      "text/html": [
       "<div>\n",
       "<style scoped>\n",
       "    .dataframe tbody tr th:only-of-type {\n",
       "        vertical-align: middle;\n",
       "    }\n",
       "\n",
       "    .dataframe tbody tr th {\n",
       "        vertical-align: top;\n",
       "    }\n",
       "\n",
       "    .dataframe thead th {\n",
       "        text-align: right;\n",
       "    }\n",
       "</style>\n",
       "<table border=\"1\" class=\"dataframe\">\n",
       "  <thead>\n",
       "    <tr style=\"text-align: right;\">\n",
       "      <th></th>\n",
       "      <th>Unnamed: 0</th>\n",
       "      <th>id</th>\n",
       "      <th>title</th>\n",
       "      <th>vote_average</th>\n",
       "      <th>vote_count</th>\n",
       "      <th>release_date</th>\n",
       "      <th>revenue</th>\n",
       "      <th>runtime</th>\n",
       "      <th>adult</th>\n",
       "      <th>budget</th>\n",
       "      <th>original_language</th>\n",
       "      <th>popularity</th>\n",
       "      <th>genres</th>\n",
       "      <th>production_companies</th>\n",
       "      <th>production_countries</th>\n",
       "      <th>spoken_languages</th>\n",
       "      <th>country_iso</th>\n",
       "    </tr>\n",
       "  </thead>\n",
       "  <tbody>\n",
       "    <tr>\n",
       "      <th>0</th>\n",
       "      <td>12345</td>\n",
       "      <td>1138352</td>\n",
       "      <td>Rupert’s 6</td>\n",
       "      <td>0.0</td>\n",
       "      <td>0</td>\n",
       "      <td>2024-11-02</td>\n",
       "      <td>20</td>\n",
       "      <td>27</td>\n",
       "      <td>False</td>\n",
       "      <td>300</td>\n",
       "      <td>en</td>\n",
       "      <td>0.891</td>\n",
       "      <td>Thriller</td>\n",
       "      <td>Kleinhenz Jewelers, Bennett Family Dental</td>\n",
       "      <td>United States of America</td>\n",
       "      <td>English</td>\n",
       "      <td>['US']</td>\n",
       "    </tr>\n",
       "    <tr>\n",
       "      <th>1</th>\n",
       "      <td>12465</td>\n",
       "      <td>1241095</td>\n",
       "      <td>In The Morning</td>\n",
       "      <td>0.0</td>\n",
       "      <td>0</td>\n",
       "      <td>2024-02-08</td>\n",
       "      <td>1</td>\n",
       "      <td>24</td>\n",
       "      <td>False</td>\n",
       "      <td>1</td>\n",
       "      <td>en</td>\n",
       "      <td>0.000</td>\n",
       "      <td>Drama, Romance</td>\n",
       "      <td>BlueBrick Productions</td>\n",
       "      <td>United States of America</td>\n",
       "      <td>English</td>\n",
       "      <td>['US']</td>\n",
       "    </tr>\n",
       "    <tr>\n",
       "      <th>2</th>\n",
       "      <td>12456</td>\n",
       "      <td>1236224</td>\n",
       "      <td>Nathalie: The first and last prom</td>\n",
       "      <td>1.0</td>\n",
       "      <td>1</td>\n",
       "      <td>2024-01-26</td>\n",
       "      <td>1</td>\n",
       "      <td>8</td>\n",
       "      <td>False</td>\n",
       "      <td>2</td>\n",
       "      <td>es</td>\n",
       "      <td>0.000</td>\n",
       "      <td>Horror, Drama, Comedy, Documentary</td>\n",
       "      <td>Virgin Productions</td>\n",
       "      <td>Chile</td>\n",
       "      <td>Spanish</td>\n",
       "      <td>['CL']</td>\n",
       "    </tr>\n",
       "  </tbody>\n",
       "</table>\n",
       "</div>"
      ],
      "text/plain": [
       "   Unnamed: 0       id                              title  vote_average  \\\n",
       "0       12345  1138352                         Rupert’s 6           0.0   \n",
       "1       12465  1241095                     In The Morning           0.0   \n",
       "2       12456  1236224  Nathalie: The first and last prom           1.0   \n",
       "\n",
       "   vote_count release_date  revenue  runtime  adult  budget original_language  \\\n",
       "0           0   2024-11-02       20       27  False     300                en   \n",
       "1           0   2024-02-08        1       24  False       1                en   \n",
       "2           1   2024-01-26        1        8  False       2                es   \n",
       "\n",
       "   popularity                              genres  \\\n",
       "0       0.891                            Thriller   \n",
       "1       0.000                      Drama, Romance   \n",
       "2       0.000  Horror, Drama, Comedy, Documentary   \n",
       "\n",
       "                        production_companies      production_countries  \\\n",
       "0  Kleinhenz Jewelers, Bennett Family Dental  United States of America   \n",
       "1                      BlueBrick Productions  United States of America   \n",
       "2                         Virgin Productions                     Chile   \n",
       "\n",
       "  spoken_languages country_iso  \n",
       "0          English      ['US']  \n",
       "1          English      ['US']  \n",
       "2          Spanish      ['CL']  "
      ]
     },
     "execution_count": 14,
     "metadata": {},
     "output_type": "execute_result"
    }
   ],
   "source": [
    "movies_df.head(3)"
   ]
  },
  {
   "cell_type": "code",
   "execution_count": 15,
   "id": "e04c5f57-734f-4c90-813a-1d4d1e6c2881",
   "metadata": {},
   "outputs": [
    {
     "name": "stdout",
     "output_type": "stream",
     "text": [
      "Rows:  12468\n",
      "Columns:  17\n",
      "['Unnamed: 0', 'id', 'title', 'vote_average', 'vote_count', 'release_date', 'revenue', 'runtime', 'adult', 'budget', 'original_language', 'popularity', 'genres', 'production_companies', 'production_countries', 'spoken_languages', 'country_iso']\n",
      "-----------\n"
     ]
    }
   ],
   "source": [
    "print(\"Rows: \", len(movies_df))\n",
    "print(\"Columns: \", len(movies_df.columns))\n",
    "print(list(movies_df.columns))\n",
    "print(\"-----------\")"
   ]
  },
  {
   "cell_type": "code",
   "execution_count": 16,
   "id": "deb66c30-3b36-4061-abe8-831f9bfd202c",
   "metadata": {
    "scrolled": true
   },
   "outputs": [
    {
     "data": {
      "text/html": [
       "\n",
       "<style>\n",
       "  #altair-viz-ebe583478206470ba878122db8bb6871.vega-embed {\n",
       "    width: 100%;\n",
       "    display: flex;\n",
       "  }\n",
       "\n",
       "  #altair-viz-ebe583478206470ba878122db8bb6871.vega-embed details,\n",
       "  #altair-viz-ebe583478206470ba878122db8bb6871.vega-embed details summary {\n",
       "    position: relative;\n",
       "  }\n",
       "</style>\n",
       "<div id=\"altair-viz-ebe583478206470ba878122db8bb6871\"></div>\n",
       "<script type=\"text/javascript\">\n",
       "  var VEGA_DEBUG = (typeof VEGA_DEBUG == \"undefined\") ? {} : VEGA_DEBUG;\n",
       "  (function(spec, embedOpt){\n",
       "    let outputDiv = document.currentScript.previousElementSibling;\n",
       "    if (outputDiv.id !== \"altair-viz-ebe583478206470ba878122db8bb6871\") {\n",
       "      outputDiv = document.getElementById(\"altair-viz-ebe583478206470ba878122db8bb6871\");\n",
       "    }\n",
       "    const paths = {\n",
       "      \"vega\": \"https://cdn.jsdelivr.net/npm/vega@5?noext\",\n",
       "      \"vega-lib\": \"https://cdn.jsdelivr.net/npm/vega-lib?noext\",\n",
       "      \"vega-lite\": \"https://cdn.jsdelivr.net/npm/vega-lite@5.16.3?noext\",\n",
       "      \"vega-embed\": \"https://cdn.jsdelivr.net/npm/vega-embed@6?noext\",\n",
       "    };\n",
       "\n",
       "    function maybeLoadScript(lib, version) {\n",
       "      var key = `${lib.replace(\"-\", \"\")}_version`;\n",
       "      return (VEGA_DEBUG[key] == version) ?\n",
       "        Promise.resolve(paths[lib]) :\n",
       "        new Promise(function(resolve, reject) {\n",
       "          var s = document.createElement('script');\n",
       "          document.getElementsByTagName(\"head\")[0].appendChild(s);\n",
       "          s.async = true;\n",
       "          s.onload = () => {\n",
       "            VEGA_DEBUG[key] = version;\n",
       "            return resolve(paths[lib]);\n",
       "          };\n",
       "          s.onerror = () => reject(`Error loading script: ${paths[lib]}`);\n",
       "          s.src = paths[lib];\n",
       "        });\n",
       "    }\n",
       "\n",
       "    function showError(err) {\n",
       "      outputDiv.innerHTML = `<div class=\"error\" style=\"color:red;\">${err}</div>`;\n",
       "      throw err;\n",
       "    }\n",
       "\n",
       "    function displayChart(vegaEmbed) {\n",
       "      vegaEmbed(outputDiv, spec, embedOpt)\n",
       "        .catch(err => showError(`Javascript Error: ${err.message}<br>This usually means there's a typo in your chart specification. See the javascript console for the full traceback.`));\n",
       "    }\n",
       "\n",
       "    if(typeof define === \"function\" && define.amd) {\n",
       "      requirejs.config({paths});\n",
       "      require([\"vega-embed\"], displayChart, err => showError(`Error loading script: ${err.message}`));\n",
       "    } else {\n",
       "      maybeLoadScript(\"vega\", \"5\")\n",
       "        .then(() => maybeLoadScript(\"vega-lite\", \"5.16.3\"))\n",
       "        .then(() => maybeLoadScript(\"vega-embed\", \"6\"))\n",
       "        .catch(showError)\n",
       "        .then(() => displayChart(vegaEmbed));\n",
       "    }\n",
       "  })({\"$schema\": \"https://vega.github.io/schema/vega/v5.json\", \"data\": [{\"name\": \"param_3_store\"}, {\"name\": \"source_0\", \"values\": [{\"__count\": 7, \"year_release_date\": \"2024-01-01T00:00:00.000\"}, {\"__count\": 279, \"year_release_date\": \"2023-01-01T00:00:00.000\"}, {\"__count\": 401, \"year_release_date\": \"2022-01-01T00:00:00.000\"}, {\"__count\": 401, \"year_release_date\": \"2021-01-01T00:00:00.000\"}, {\"__count\": 363, \"year_release_date\": \"2020-01-01T00:00:00.000\"}, {\"__count\": 539, \"year_release_date\": \"2019-01-01T00:00:00.000\"}, {\"__count\": 582, \"year_release_date\": \"2018-01-01T00:00:00.000\"}, {\"__count\": 651, \"year_release_date\": \"2017-01-01T00:00:00.000\"}, {\"__count\": 601, \"year_release_date\": \"2016-01-01T00:00:00.000\"}, {\"__count\": 543, \"year_release_date\": \"2015-01-01T00:00:00.000\"}, {\"__count\": 582, \"year_release_date\": \"2014-01-01T00:00:00.000\"}, {\"__count\": 531, \"year_release_date\": \"2013-01-01T00:00:00.000\"}, {\"__count\": 494, \"year_release_date\": \"2012-01-01T00:00:00.000\"}, {\"__count\": 456, \"year_release_date\": \"2011-01-01T00:00:00.000\"}, {\"__count\": 477, \"year_release_date\": \"2010-01-01T00:00:00.000\"}, {\"__count\": 474, \"year_release_date\": \"2009-01-01T00:00:00.000\"}, {\"__count\": 418, \"year_release_date\": \"2008-01-01T00:00:00.000\"}, {\"__count\": 444, \"year_release_date\": \"2007-01-01T00:00:00.000\"}, {\"__count\": 412, \"year_release_date\": \"2006-01-01T00:00:00.000\"}, {\"__count\": 370, \"year_release_date\": \"2005-01-01T00:00:00.000\"}, {\"__count\": 342, \"year_release_date\": \"2004-01-01T00:00:00.000\"}, {\"__count\": 292, \"year_release_date\": \"2003-01-01T00:00:00.000\"}, {\"__count\": 294, \"year_release_date\": \"2002-01-01T00:00:00.000\"}, {\"__count\": 261, \"year_release_date\": \"2001-01-01T00:00:00.000\"}, {\"__count\": 245, \"year_release_date\": \"2000-01-01T00:00:00.000\"}, {\"__count\": 242, \"year_release_date\": \"1999-01-01T00:00:00.000\"}, {\"__count\": 230, \"year_release_date\": \"1998-01-01T00:00:00.000\"}, {\"__count\": 217, \"year_release_date\": \"1997-01-01T00:00:00.000\"}, {\"__count\": 194, \"year_release_date\": \"1996-01-01T00:00:00.000\"}, {\"__count\": 205, \"year_release_date\": \"1995-01-01T00:00:00.000\"}, {\"__count\": 184, \"year_release_date\": \"1994-01-01T00:00:00.000\"}, {\"__count\": 220, \"year_release_date\": \"1993-01-01T00:00:00.000\"}, {\"__count\": 171, \"year_release_date\": \"1992-01-01T00:00:00.000\"}, {\"__count\": 188, \"year_release_date\": \"1991-01-01T00:00:00.000\"}, {\"__count\": 158, \"year_release_date\": \"1990-01-01T00:00:00.000\"}], \"transform\": [{\"type\": \"formula\", \"expr\": \"toDate(datum['year_release_date'])\", \"as\": \"year_release_date\"}]}, {\"name\": \"source_0_x_domain_year_release_date\", \"values\": [{\"year_release_date\": \"2024-01-01T00:00:00.000\"}, {\"year_release_date\": \"2023-01-01T00:00:00.000\"}, {\"year_release_date\": \"2022-01-01T00:00:00.000\"}, {\"year_release_date\": \"2021-01-01T00:00:00.000\"}, {\"year_release_date\": \"2020-01-01T00:00:00.000\"}, {\"year_release_date\": \"2019-01-01T00:00:00.000\"}, {\"year_release_date\": \"2018-01-01T00:00:00.000\"}, {\"year_release_date\": \"2017-01-01T00:00:00.000\"}, {\"year_release_date\": \"2016-01-01T00:00:00.000\"}, {\"year_release_date\": \"2015-01-01T00:00:00.000\"}, {\"year_release_date\": \"2014-01-01T00:00:00.000\"}, {\"year_release_date\": \"2013-01-01T00:00:00.000\"}, {\"year_release_date\": \"2012-01-01T00:00:00.000\"}, {\"year_release_date\": \"2011-01-01T00:00:00.000\"}, {\"year_release_date\": \"2010-01-01T00:00:00.000\"}, {\"year_release_date\": \"2009-01-01T00:00:00.000\"}, {\"year_release_date\": \"2008-01-01T00:00:00.000\"}, {\"year_release_date\": \"2007-01-01T00:00:00.000\"}, {\"year_release_date\": \"2006-01-01T00:00:00.000\"}, {\"year_release_date\": \"2005-01-01T00:00:00.000\"}, {\"year_release_date\": \"2004-01-01T00:00:00.000\"}, {\"year_release_date\": \"2003-01-01T00:00:00.000\"}, {\"year_release_date\": \"2002-01-01T00:00:00.000\"}, {\"year_release_date\": \"2001-01-01T00:00:00.000\"}, {\"year_release_date\": \"2000-01-01T00:00:00.000\"}, {\"year_release_date\": \"1999-01-01T00:00:00.000\"}, {\"year_release_date\": \"1998-01-01T00:00:00.000\"}, {\"year_release_date\": \"1997-01-01T00:00:00.000\"}, {\"year_release_date\": \"1996-01-01T00:00:00.000\"}, {\"year_release_date\": \"1995-01-01T00:00:00.000\"}, {\"year_release_date\": \"1994-01-01T00:00:00.000\"}, {\"year_release_date\": \"1993-01-01T00:00:00.000\"}, {\"year_release_date\": \"1992-01-01T00:00:00.000\"}, {\"year_release_date\": \"1991-01-01T00:00:00.000\"}, {\"year_release_date\": \"1990-01-01T00:00:00.000\"}], \"transform\": [{\"type\": \"formula\", \"expr\": \"toDate(datum['year_release_date'])\", \"as\": \"year_release_date\"}]}, {\"name\": \"source_0_y_domain___count\", \"values\": [{\"min\": 7, \"max\": 651}]}], \"signals\": [{\"name\": \"x_step\", \"value\": 20}, {\"name\": \"width\", \"update\": \"bandspace(domain('x').length, 0.1, 0.05) * x_step\"}, {\"name\": \"unit\", \"value\": {}, \"on\": [{\"events\": \"pointermove\", \"update\": \"isTuple(group()) ? group() : unit\"}]}, {\"name\": \"param_3\", \"update\": \"vlSelectionResolve(\\\"param_3_store\\\", \\\"union\\\")\"}, {\"name\": \"param_3_year_release_date\", \"on\": [{\"events\": [{\"source\": \"view\", \"type\": \"dblclick\"}], \"update\": \"null\"}, {\"events\": {\"signal\": \"param_3_translate_delta\"}, \"update\": \"panLinear(param_3_translate_anchor.extent_x, -param_3_translate_delta.x / width)\"}, {\"events\": {\"signal\": \"param_3_zoom_delta\"}, \"update\": \"zoomLinear(domain(\\\"x\\\"), param_3_zoom_anchor.x, param_3_zoom_delta)\"}]}, {\"name\": \"param_3_tuple\", \"on\": [{\"events\": [{\"signal\": \"param_3_year_release_date\"}], \"update\": \"param_3_year_release_date ? {unit: \\\"\\\", fields: param_3_tuple_fields, values: [param_3_year_release_date]} : null\"}]}, {\"name\": \"param_3_tuple_fields\", \"value\": [{\"field\": \"year_release_date\", \"channel\": \"x\", \"type\": \"E\"}]}, {\"name\": \"param_3_translate_anchor\", \"value\": {}, \"on\": [{\"events\": [{\"source\": \"scope\", \"type\": \"pointerdown\"}], \"update\": \"{x: x(unit), y: y(unit), extent_x: domain(\\\"x\\\")}\"}]}, {\"name\": \"param_3_translate_delta\", \"value\": {}, \"on\": [{\"events\": [{\"source\": \"window\", \"between\": [{\"source\": \"scope\", \"type\": \"pointerdown\"}, {\"source\": \"window\", \"type\": \"pointerup\"}], \"type\": \"pointermove\", \"consume\": true}], \"update\": \"{x: param_3_translate_anchor.x - x(unit), y: param_3_translate_anchor.y - y(unit)}\"}]}, {\"name\": \"param_3_zoom_anchor\", \"on\": [{\"events\": [{\"source\": \"scope\", \"consume\": true, \"type\": \"wheel\"}], \"update\": \"{x: invert(\\\"x\\\", x(unit)), y: invert(\\\"y\\\", y(unit))}\"}]}, {\"name\": \"param_3_zoom_delta\", \"on\": [{\"events\": [{\"source\": \"scope\", \"consume\": true, \"type\": \"wheel\"}], \"update\": \"pow(1.001, event.deltaY * pow(16, event.deltaMode))\", \"force\": true}]}, {\"name\": \"param_3_modify\", \"on\": [{\"events\": {\"signal\": \"param_3_tuple\"}, \"update\": \"modify(\\\"param_3_store\\\", param_3_tuple, true)\"}]}], \"marks\": [{\"type\": \"rect\", \"name\": \"marks\", \"from\": {\"data\": \"source_0\"}, \"encode\": {\"update\": {\"width\": {\"signal\": \"max(0.25, bandwidth('x'))\"}, \"fill\": {\"value\": \"#4c78a8\"}, \"x\": {\"field\": \"year_release_date\", \"scale\": \"x\"}, \"description\": {\"signal\": \"\\\"release_date (year): \\\" + (timeFormat(datum[\\\"year_release_date\\\"], timeUnitSpecifier([\\\"year\\\"], {\\\"year-month\\\":\\\"%b %Y \\\",\\\"year-month-date\\\":\\\"%b %d, %Y \\\"}))) + \\\"; Count of Records: \\\" + (format(datum[\\\"__count\\\"], \\\"\\\"))\"}, \"y\": {\"field\": \"__count\", \"scale\": \"y\"}, \"tooltip\": {\"signal\": \"format(datum[\\\"__count\\\"], \\\"\\\")\"}, \"ariaRoleDescription\": {\"value\": \"bar\"}, \"y2\": {\"value\": 0, \"scale\": \"y\"}}}, \"style\": [\"bar\"], \"interactive\": true}], \"scales\": [{\"name\": \"x\", \"type\": \"band\", \"domain\": {\"data\": \"source_0_x_domain_year_release_date\", \"field\": \"year_release_date\", \"sort\": true}, \"range\": {\"step\": {\"signal\": \"x_step\"}}, \"paddingInner\": 0.1, \"paddingOuter\": 0.05}, {\"name\": \"y\", \"type\": \"linear\", \"domain\": [{\"signal\": \"(data(\\\"source_0_y_domain___count\\\")[0] || {}).min\"}, {\"signal\": \"(data(\\\"source_0_y_domain___count\\\")[0] || {}).max\"}], \"range\": [{\"signal\": \"height\"}, 0], \"zero\": true, \"nice\": true}], \"axes\": [{\"scale\": \"y\", \"zindex\": 0, \"grid\": true, \"maxExtent\": 0, \"orient\": \"left\", \"domain\": false, \"labels\": false, \"aria\": false, \"gridScale\": \"x\", \"tickCount\": {\"signal\": \"ceil(height/40)\"}, \"minExtent\": 0, \"ticks\": false}, {\"scale\": \"x\", \"formatType\": \"time\", \"zindex\": 0, \"title\": \"release_date (year)\", \"orient\": \"bottom\", \"grid\": false, \"format\": {\"signal\": \"timeUnitSpecifier([\\\"year\\\"], {\\\"year-month\\\":\\\"%b %Y \\\",\\\"year-month-date\\\":\\\"%b %d, %Y \\\"})\"}, \"labelOverlap\": true, \"tickMinStep\": {\"signal\": \"datetime(2002, 0, 1, 0, 0, 0, 0) - datetime(2001, 0, 1, 0, 0, 0, 0)\"}}, {\"scale\": \"y\", \"labelOverlap\": true, \"tickCount\": {\"signal\": \"ceil(height/40)\"}, \"zindex\": 0, \"title\": \"Count of Records\", \"orient\": \"left\", \"grid\": false}], \"background\": \"white\", \"padding\": 5, \"style\": \"cell\", \"height\": 300}, {\"mode\": \"vega\"});\n",
       "</script>"
      ],
      "text/plain": [
       "alt.Chart(...)"
      ]
     },
     "execution_count": 16,
     "metadata": {},
     "output_type": "execute_result"
    }
   ],
   "source": [
    "alt.Chart(movies_df).mark_bar().encode(\n",
    "    x='year(release_date):O',\n",
    "    y='count()',\n",
    "    tooltip='count()',\n",
    ").interactive()\n"
   ]
  },
  {
   "cell_type": "code",
   "execution_count": 17,
   "id": "dba8212f-efdd-410c-aec1-66a06379a30b",
   "metadata": {},
   "outputs": [],
   "source": [
    "# Uncomment this if you want random sample from original dataset\n",
    "# movies_df = movies_df.sample(n=1000,random_state=40)"
   ]
  },
  {
   "cell_type": "code",
   "execution_count": null,
   "id": "26fad0e1-874a-4e4d-a0d9-a495825d0a32",
   "metadata": {},
   "outputs": [],
   "source": []
  }
 ],
 "metadata": {
  "kernelspec": {
   "display_name": "Python 3 (ipykernel)",
   "language": "python",
   "name": "python3"
  },
  "language_info": {
   "codemirror_mode": {
    "name": "ipython",
    "version": 3
   },
   "file_extension": ".py",
   "mimetype": "text/x-python",
   "name": "python",
   "nbconvert_exporter": "python",
   "pygments_lexer": "ipython3",
   "version": "3.10.12"
  }
 },
 "nbformat": 4,
 "nbformat_minor": 5
}
