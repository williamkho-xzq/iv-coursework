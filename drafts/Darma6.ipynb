import altair as alt
import pandas as pd
import numpy as np
import timeit
from IPython.display import Image, display, HTML
import geopandas as gpd


alt.data_transformers.enable("vegafusion")

#movies_df = pd.read_csv("/Users/ddl26/Uni of Glasgow/Sem 2/IV/Assignment/Working File/iv-coursework/data/movie_dataset.csv")
movies_df = pd.read_csv("data/movie_dataset.csv")

df_genre_split = movies_df.assign(genres=movies_df['genres'].str.split(', ')).explode('genres')


## Init world map data

#local_map = "/Users/ddl26/Uni of Glasgow/Sem 2/IV/Assignment/Working File/iv-coursework/data/ne_50m_admin_0_countries.zip"
local_map = "data/ne_50m_admin_0_countries.zip"

# local_map = "data/ne_110m_admin_0_countries.zip"
gdf_ne = gpd.read_file(local_map) 
gdf_ne = gdf_ne[['ADMIN', 'SOV_A3', 'CONTINENT', 'POP_EST', 'geometry']]
gdf_ne.columns = ['name', 'iso_a2', 'continent', 'pop_est', 'geometry']


#file_path = "/Users/ddl26/Uni of Glasgow/Sem 2/IV/Assignment/Working File/iv-coursework/data/country-iso_3116.csv"
file_path = "data/country-iso_3116.csv"
countries_df = pd.read_csv(file_path)

# Define the selection for country click
country_click = alt.selection_single(fields=['iso_country'], empty='none', on='click')

# Filter the dataset based on the selected country
selected_country = alt.selection_single(fields=['iso_country'], empty='all', on='click')

for country, iso_code in countries_iso.items():
    # Find the corresponding row in the DataFrame
    row = countries_df[countries_df['name'] == country]
    if not row.empty:
        # Get the index of the row
        idx = row.index[0]
        # Update the 'iso_a2' column with the ISO code
        gdf_ne.loc[gdf_ne["name"] == country, 'iso_a2'] = iso_code
    else:
        print(f"No ISO code found for {country}")



gdf_ne = gdf_ne.query("continent in ['Africa', 'Asia', 'Europe', 'North America', 'Oceania', 'South America']")

production_country_df = movies_df.assign(iso_country=movies_df['iso_countries'].str.split(', ')).explode('iso_country')
movie_country_counts = production_country_df.value_counts(['iso_country']).reset_index()
movie_country_counts.head(3)

gdf_ne.columns

iso_continent_df = pd.DataFrame(gdf_ne[["iso_a2", "continent", "name"]])

country_continent_map = iso_continent_df.set_index('iso_a2').T.to_dict('index')
country_continent_map = country_continent_map['continent']

## Maps continent information to dataframe
movies_df['continents'] = movies_df['iso_countries']
movies_df['continents'] = movies_df['continents'].replace(pd.Series(country_continent_map).astype(str), regex=True)
def remove_dupes(i1):  
    return ','.join(list(set(i1.split(", "))))

movies_df['continents'] = movies_df['continents'].apply(remove_dupes)

## brush
country_brush = alt.selection_point(fields=['iso_country'])
continent_dropdown = alt.binding_select(options=[None, 'Africa', 'Asia', 'Europe', 'North America', 'Oceania', 'South America'],
                                       labels=['All', 'Africa', 'Asia', 'Europe', 'North America', 'Oceania', 'South America'], name='Continent')
continent_selection = alt.selection_point(fields=['continent'], bind=continent_dropdown)

## background world map
background_world = alt.Chart(gdf_ne).mark_geoshape(fill="white", stroke='lightgray')

## content world map
world_movies = alt.Chart(gdf_ne).mark_geoshape(
    stroke='lightgray'
).encode(
    tooltip=['name:N', 'count:Q'],
    color='count:Q',
    opacity=alt.condition(country_brush, alt.OpacityValue(1), alt.OpacityValue(0.2))
).transform_lookup(
    lookup='iso_a2',
    from_=alt.LookupData(movie_country_counts, 'iso_country', list(movie_country_counts.columns))
)

world_map = (background_world+world_movies).project(
    ##naturalEarth1
    type= 'mercator',
    rotate=[0, 0 ,0],
    # scale=100
).properties(
    title="Global Cinematic Landscape: Total Movie Productions by Country",
    width=900,
    height=500
).add_params(
    country_brush,
    continent_selection
).transform_filter(
    # alt.datum.CONTINENT == 'North America'
    continent_selection
)

# Bar chart - Movies count by country 
movies_count_bar = alt.Chart(movie_country_counts).mark_bar(    
).encode(
    x='count:Q',
    y=alt.Y('name:O').sort('-x'),
    tooltip=['name:O', 'count:Q']
).transform_lookup(
    lookup='iso_country',
    from_=alt.LookupData(iso_continent_df, 'iso_a2', ['continent', 'name'])
).transform_filter(
    continent_selection
).transform_window(
    rank='dense_rank(count)',
    sort=[alt.SortField('rank', order='descending')]
).transform_filter(
    (alt.datum.rank <= 10)
).properties(
    title="Top 10 Production Countries"
)

## Bar chart - Top 10 movies by revenue
movie_rev_bar = alt.Chart(movies_df).mark_bar(    
).encode(
    x='revenue:Q',
    y=alt.Y('title:O').sort('-x'),
    tooltip=['title:O', 'revenue:Q', 'production_countries:O']
).transform_filter(
     {
         'or': [
             {'not': alt.expr.isDefined(continent_selection.continent)}, 
             (alt.expr.indexof(alt.datum.continents, continent_selection.continent) != -1)
         ]  #
     }
).transform_filter(
     {
         'or': [
             {'not': alt.expr.isDefined(country_brush.iso_country)}, 
             (alt.expr.indexof(alt.datum.iso_countries, country_brush.iso_country) != -1)
         ]  #
     }   
).transform_window(
    rank='dense_rank(revenue)',
    sort=[alt.SortField('revenue', order='descending')]
).transform_filter(
    (alt.datum.rank <= 10)
).properties(
    title="Top 10 Movies by Revenue *in USD"
)

#bar chart revenue
bar_revenue_genre = alt.Chart(df_genre_split).mark_bar().encode(
    x=alt.X('revenue:Q', axis=alt.Axis(title='Revenue')),
    y=alt.Y('genres:N', axis=alt.Axis(title='Genre'), sort='-x'),
    color=alt.Color('genres:N', legend=None),
    tooltip=['genres:N', 'revenue:Q']
).transform_filter(
     {
         'or': [
             {'not': alt.expr.isDefined(continent_selection.continent)}, 
             (alt.expr.indexof(alt.datum.continents, continent_selection.continent) != -1)
         ]  #
     }
).transform_filter(
     {
         'or': [
             {'not': alt.expr.isDefined(country_brush.iso_country)}, 
             (alt.expr.indexof(alt.datum.iso_countries, country_brush.iso_country) != -1)
         ]
     }  
).transform_filter(
    continent_selection
).transform_window(
    rank='dense_rank(revenue)',
    sort=[alt.SortField('revenue', order='descending')]
).transform_filter(
    (alt.datum.rank <= 10)
).properties(
    width=600,
    height=400,
    title='Revenue by Genre in Selected Country'
)

#line chart
line_revenue_genre = alt.Chart(movies_df).mark_line().encode(
    x=alt.X('year(release_date):T', axis=alt.Axis(title='Year')),
    y=alt.Y('count():Q', axis=alt.Axis(title='Count')),
    tooltip=['year(release_date):T', 'count():Q']
).transform_filter(
     {
         'or': [
             {'not': alt.expr.isDefined(continent_selection.continent)}, 
             (alt.expr.indexof(alt.datum.continents, continent_selection.continent) != -1)
         ]  #
     }
).transform_filter(
     {
         'or': [
             {'not': alt.expr.isDefined(country_brush.iso_country)}, 
             (alt.expr.indexof(alt.datum.iso_countries, country_brush.iso_country) != -1)
         ]
     }  
).transform_filter(
    continent_selection
).transform_window(
    rank='dense_rank(count)',
    sort=[alt.SortField('count', order='descending')]
).transform_filter(
    (alt.datum.rank <= 10)
).properties(
    width=600,
    height=400,
    title='Total Number of Movies Over the Years'
)

scatter_revenue_rating = alt.Chart(df_genre_split).mark_circle().encode(
    x='vote_average:Q',
    y='revenue:Q',
    color=alt.Color('genres:N', legend=alt.Legend(title='Genre')),
    size=alt.Size('revenue:Q', scale=alt.Scale(range=[50, 500])),
    tooltip=['title:N', 'revenue:Q', 'vote_average:Q', 'genres:N']
).transform_filter(
     {
         'or': [
             {'not': alt.expr.isDefined(continent_selection.continent)}, 
             (alt.expr.indexof(alt.datum.continents, continent_selection.continent) != -1)
         ]  #
     }
).transform_filter(
     {
         'or': [
             {'not': alt.expr.isDefined(country_brush.iso_country)}, 
             (alt.expr.indexof(alt.datum.iso_countries, country_brush.iso_country) != -1)
         ]
     }  
).transform_filter(
    continent_selection
).transform_window(
    rank='dense_rank(count)',
    sort=[alt.SortField('count', order='descending')]
).transform_filter(
    (alt.datum.rank <= 10)
).properties(
    width=600,
    height=400,
    title='Revenue vs. Rating'
)

chart1 = (world_map & (movies_count_bar | movie_rev_bar))
chart2 = bar_revenue_genre
chart3 = line_revenue_genre
chart4 = scatter_revenue_rating

chart1 | chart2 |  chart3 | chart4
